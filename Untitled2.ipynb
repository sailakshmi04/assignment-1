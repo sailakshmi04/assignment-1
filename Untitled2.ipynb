{
  "nbformat": 4,
  "nbformat_minor": 0,
  "metadata": {
    "colab": {
      "name": "Untitled2.ipynb",
      "provenance": [],
      "toc_visible": true,
      "authorship_tag": "ABX9TyNvzzoe62S9fwFeQU99cegD",
      "include_colab_link": true
    },
    "kernelspec": {
      "name": "python3",
      "display_name": "Python 3"
    },
    "language_info": {
      "name": "python"
    }
  },
  "cells": [
    {
      "cell_type": "markdown",
      "metadata": {
        "id": "view-in-github",
        "colab_type": "text"
      },
      "source": [
        "<a href=\"https://colab.research.google.com/github/sailakshmi04/assignment-1/blob/main/Untitled2.ipynb\" target=\"_parent\"><img src=\"https://colab.research.google.com/assets/colab-badge.svg\" alt=\"Open In Colab\"/></a>"
      ]
    },
    {
      "cell_type": "code",
      "execution_count": 8,
      "metadata": {
        "colab": {
          "base_uri": "https://localhost:8080/"
        },
        "id": "g82iGmcWBR_5",
        "outputId": "3cc4b3f1-979c-444f-c5af-3e1b3ef799fe"
      },
      "outputs": [
        {
          "output_type": "stream",
          "name": "stdout",
          "text": [
            "Enter First number : 37\n",
            "Enter Second number : 43\n",
            "1. Add \n",
            "2. Sub \n",
            "3. Multiply \n",
            "4. Divide \n",
            "5. Square \n",
            "6. Squareroot \n",
            "7. Graph\n",
            "Please select one of the following : 5\n",
            "Result:  27081588506598106040982953896258749653831334409506086433262944331453\n",
            "1. Add \n",
            "2. Sub \n",
            "3. Multiply \n",
            "4. Divide \n",
            "5. Square \n",
            "6. Squareroot \n",
            "7. Graph\n",
            "Please select one of the following : 6\n",
            "Result:  6.082762530298219\n",
            "1. Add \n",
            "2. Sub \n",
            "3. Multiply \n",
            "4. Divide \n",
            "5. Square \n",
            "6. Squareroot \n",
            "7. Graph\n",
            "Please select one of the following : 7\n",
            "Result:  0.02702702702702703\n",
            "1. Add \n",
            "2. Sub \n",
            "3. Multiply \n",
            "4. Divide \n",
            "5. Square \n",
            "6. Squareroot \n",
            "7. Graph\n",
            "Please select one of the following : 0\n",
            "Again try one of the following\n",
            "\n"
          ]
        }
      ],
      "source": [
        "class cal():\n",
        "    def __init__(self,a,b):\n",
        "        self.a = a\n",
        "        self.b = b\n",
        "    def add(self):\n",
        "        return self.a + self.b\n",
        "    def sub(self):\n",
        "        return self.a - self.b\n",
        "    def multiply(self):\n",
        "        return self.a * self.b\n",
        "    def divide(self):\n",
        "        return self.a / self.b\n",
        "    def square(self):\n",
        "        return self.a ** self.b\n",
        "    def squareroot(self):\n",
        "        return self.a **0.5\n",
        "    def graph(self):\n",
        "        return 1/self.a \n",
        "    \n",
        "\n",
        "a = int(input('Enter First number : '))\n",
        "b = int(input('Enter Second number : '))        \n",
        "obj=cal(a,b)\n",
        "while True:\n",
        "    def menu():\n",
        "        x = ('1. Add \\n2. Sub \\n3. Multiply \\n4. Divide \\n5. Square \\n6. Squareroot \\n7. Graph') \n",
        "        print(x)\n",
        "    menu()\n",
        "    choice = int(input('Please select one of the following : ')) \n",
        "    if choice == 1:\n",
        "        print(\"Result: \",obj.add())\n",
        "    elif choice == 2:\n",
        "        print(\"Result: \",obj.sub())\n",
        "    elif choice == 3:\n",
        "        print(\"Result: \",obj.multiply())    \n",
        "    elif choice == 4:\n",
        "        print(\"Result: \",obj.divide())\n",
        "    elif choice == 5:\n",
        "        print(\"Result: \",obj.square())\n",
        "    elif choice == 6:\n",
        "        print(\"Result: \",obj.squareroot())\n",
        "    elif choice == 7:\n",
        "        print(\"Result: \",obj.graph())\n",
        "    elif choice == 0:\n",
        "        print('Again try one of the following')\n",
        "        break\n",
        "    else:\n",
        "        print('Invalid option') \n",
        "        break       \n",
        "print()\n"
      ]
    },
    {
      "cell_type": "markdown",
      "source": [
        "# New Section"
      ],
      "metadata": {
        "id": "4JMXLBLC7IuQ"
      }
    }
  ]
}